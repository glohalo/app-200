{
 "cells": [
  {
   "cell_type": "markdown",
   "id": "546772bb",
   "metadata": {},
   "source": [
    "# 1. List of comprehension\n"
   ]
  },
  {
   "cell_type": "markdown",
   "id": "35595ee9",
   "metadata": {},
   "source": [
    "It's how create a new list from other list\n"
   ]
  },
  {
   "cell_type": "code",
   "execution_count": 2,
   "id": "1f140b39",
   "metadata": {},
   "outputs": [
    {
     "name": "stdout",
     "output_type": "stream",
     "text": [
      "['apple', 'banana', 'mango']\n"
     ]
    }
   ],
   "source": [
    "#Example 1.1. The traditional form\n",
    "list1 = [\"apple\", \"banana\", \"cherry\", \"kiwi\", \"mango\"]\n",
    "from_list1 = []\n",
    "\n",
    "#extract all the words with a\n",
    "for i in list1:\n",
    "    if \"a\" in i:\n",
    "        from_list1.append(i)\n",
    "print(from_list1)"
   ]
  },
  {
   "cell_type": "code",
   "execution_count": 29,
   "id": "02c507d6",
   "metadata": {},
   "outputs": [
    {
     "name": "stdout",
     "output_type": "stream",
     "text": [
      "['hello', 'hello', 'hello', 'hello', 'hello']\n"
     ]
    }
   ],
   "source": [
    "#example 1.2. How it is a compregension list\n",
    "from_list1_2 = ['hello' for x in 'list1']\n",
    "print(from_list1_2)"
   ]
  },
  {
   "cell_type": "code",
   "execution_count": 20,
   "id": "4da4abb7",
   "metadata": {},
   "outputs": [],
   "source": [
    "#example 1.3\n",
    "from_list1_3 = [x if x!= 'banana' else 'orange' for x in list1]"
   ]
  },
  {
   "cell_type": "code",
   "execution_count": 21,
   "id": "5d159470",
   "metadata": {},
   "outputs": [
    {
     "data": {
      "text/plain": [
       "['apple', 'orange', 'cherry', 'kiwi', 'mango']"
      ]
     },
     "execution_count": 21,
     "metadata": {},
     "output_type": "execute_result"
    }
   ],
   "source": [
    "from_list1_3"
   ]
  },
  {
   "cell_type": "code",
   "execution_count": 22,
   "id": "9238a451",
   "metadata": {},
   "outputs": [],
   "source": [
    "#example 1.4\n",
    "from_list1_4 = [x if x=='banana' else 'xxx' for x in list1]"
   ]
  },
  {
   "cell_type": "code",
   "execution_count": 23,
   "id": "9d6d0083",
   "metadata": {},
   "outputs": [
    {
     "data": {
      "text/plain": [
       "['xxx', 'banana', 'xxx', 'xxx', 'xxx']"
      ]
     },
     "execution_count": 23,
     "metadata": {},
     "output_type": "execute_result"
    }
   ],
   "source": [
    "from_list1_4"
   ]
  },
  {
   "cell_type": "markdown",
   "id": "2436843a",
   "metadata": {},
   "source": [
    "# 2. Sort List\n"
   ]
  },
  {
   "cell_type": "markdown",
   "id": "b857b8ef",
   "metadata": {},
   "source": [
    "Method to organize the lists.\n",
    "\n",
    "## Organizing list Alphanumerical"
   ]
  },
  {
   "cell_type": "code",
   "execution_count": 24,
   "id": "0141b97b",
   "metadata": {},
   "outputs": [
    {
     "data": {
      "text/plain": [
       "['banana', 'kiwi', 'mango', 'orange', 'pineapple']"
      ]
     },
     "execution_count": 24,
     "metadata": {},
     "output_type": "execute_result"
    }
   ],
   "source": [
    "#example 2.1\n",
    "thislist = [\"orange\", \"mango\", \"kiwi\", \"pineapple\", \"banana\"]\n",
    "thislist.sort()\n",
    "thislist"
   ]
  },
  {
   "cell_type": "markdown",
   "id": "f2e31ce6",
   "metadata": {},
   "source": [
    "## Sort descending"
   ]
  },
  {
   "cell_type": "code",
   "execution_count": 26,
   "id": "c651e696",
   "metadata": {},
   "outputs": [
    {
     "data": {
      "text/plain": [
       "['pineapple', 'orange', 'mango', 'kiwi', 'banana']"
      ]
     },
     "execution_count": 26,
     "metadata": {},
     "output_type": "execute_result"
    }
   ],
   "source": [
    "#example 2.2\n",
    "thislist.sort(reverse = True)\n",
    "thislist"
   ]
  },
  {
   "cell_type": "markdown",
   "id": "69047ad3",
   "metadata": {},
   "source": [
    "Sort is case sensitive with the upper letters and lower. If I want a case no-sensitive sort, I have to use str.lower as a key in the argument"
   ]
  },
  {
   "cell_type": "code",
   "execution_count": 28,
   "id": "f1952737",
   "metadata": {},
   "outputs": [
    {
     "data": {
      "text/plain": [
       "['banana', 'kiwi', 'Mango', 'orange', 'Pineapple']"
      ]
     },
     "execution_count": 28,
     "metadata": {},
     "output_type": "execute_result"
    }
   ],
   "source": [
    "list2_2 = [\"orange\", \"Mango\", \"banana\", \"Pineapple\", \"kiwi\"]\n",
    "list2_2.sort(key = str.lower)\n",
    "list2_2"
   ]
  },
  {
   "cell_type": "markdown",
   "id": "f15222c4",
   "metadata": {},
   "source": [
    "I can change the order of the elements of a list with the method .reverse (regardless of the alphabet)"
   ]
  },
  {
   "cell_type": "code",
   "execution_count": null,
   "id": "f3ecc9a1",
   "metadata": {},
   "outputs": [],
   "source": []
  }
 ],
 "metadata": {
  "kernelspec": {
   "display_name": "Python 3 (ipykernel)",
   "language": "python",
   "name": "python3"
  },
  "language_info": {
   "codemirror_mode": {
    "name": "ipython",
    "version": 3
   },
   "file_extension": ".py",
   "mimetype": "text/x-python",
   "name": "python",
   "nbconvert_exporter": "python",
   "pygments_lexer": "ipython3",
   "version": "3.9.7"
  }
 },
 "nbformat": 4,
 "nbformat_minor": 5
}
